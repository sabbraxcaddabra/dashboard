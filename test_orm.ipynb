{
 "cells": [
  {
   "cell_type": "code",
   "execution_count": 1,
   "outputs": [],
   "source": [
    "from pages.data_loader import get_engine"
   ],
   "metadata": {
    "collapsed": false
   }
  },
  {
   "cell_type": "code",
   "execution_count": 2,
   "outputs": [],
   "source": [
    "from sqlalchemy.ext.declarative import declarative_base\n",
    "from sqlalchemy import MetaData, Table, orm, select"
   ],
   "metadata": {
    "collapsed": false
   }
  },
  {
   "cell_type": "code",
   "execution_count": 3,
   "outputs": [],
   "source": [
    "engine = get_engine()\n",
    "Base = declarative_base()\n",
    "\n",
    "metadata = MetaData(engine)\n",
    "metadata.reflect()"
   ],
   "metadata": {
    "collapsed": false
   }
  },
  {
   "cell_type": "code",
   "execution_count": 4,
   "outputs": [],
   "source": [
    "class Abiturient(Base):\n",
    "    __table__ = Table(\"abiturient\", metadata)\n",
    "\n",
    "class Application(Base):\n",
    "    __table__ = Table(\"application\", metadata)\n",
    "\n",
    "class Specialty(Base):\n",
    "    __table__ = Table(\"specialty\", metadata)\n",
    "\n",
    "class Edulevel(Base):\n",
    "    __table__ = Table(\"edulevel\", metadata)\n",
    "\n",
    "class Eduform(Base):\n",
    "    __table__ = Table(\"eduform\", metadata)"
   ],
   "metadata": {
    "collapsed": false
   }
  },
  {
   "cell_type": "code",
   "execution_count": 5,
   "outputs": [],
   "source": [
    "Session = orm.sessionmaker(engine)\n",
    "session = Session()"
   ],
   "metadata": {
    "collapsed": false
   }
  },
  {
   "cell_type": "code",
   "execution_count": 9,
   "outputs": [],
   "source": [
    "query = session.query(Application.id.label('app_id'), Specialty.code.label('spec_code'), Eduform.name.label('form_name'), Edulevel.name.label('level_name'))\n",
    "query = query.join(Specialty, Application.specialty_id == Specialty.id)\n",
    "query = query.join(Eduform, Application.eduform_id == Eduform.id)\n",
    "query = query.join(Edulevel, Specialty.level_id == Edulevel.id)"
   ],
   "metadata": {
    "collapsed": false
   }
  },
  {
   "cell_type": "code",
   "execution_count": 10,
   "outputs": [
    {
     "name": "stdout",
     "output_type": "stream",
     "text": [
      "SELECT application.id AS app_id, specialty.code AS spec_code, eduform.name AS form_name, edulevel.name AS level_name \n",
      "FROM application INNER JOIN specialty ON application.specialty_id = specialty.id INNER JOIN eduform ON application.eduform_id = eduform.id INNER JOIN edulevel ON specialty.level_id = edulevel.id\n"
     ]
    }
   ],
   "source": [
    "print(query)"
   ],
   "metadata": {
    "collapsed": false
   }
  },
  {
   "cell_type": "code",
   "execution_count": 11,
   "outputs": [
    {
     "data": {
      "text/plain": "31141"
     },
     "execution_count": 11,
     "metadata": {},
     "output_type": "execute_result"
    }
   ],
   "source": [
    "len(query.all())"
   ],
   "metadata": {
    "collapsed": false
   }
  },
  {
   "cell_type": "code",
   "execution_count": 8,
   "outputs": [],
   "source": [],
   "metadata": {
    "collapsed": false
   }
  }
 ],
 "metadata": {
  "kernelspec": {
   "display_name": "Python 3",
   "language": "python",
   "name": "python3"
  },
  "language_info": {
   "codemirror_mode": {
    "name": "ipython",
    "version": 2
   },
   "file_extension": ".py",
   "mimetype": "text/x-python",
   "name": "python",
   "nbconvert_exporter": "python",
   "pygments_lexer": "ipython2",
   "version": "2.7.6"
  }
 },
 "nbformat": 4,
 "nbformat_minor": 0
}
